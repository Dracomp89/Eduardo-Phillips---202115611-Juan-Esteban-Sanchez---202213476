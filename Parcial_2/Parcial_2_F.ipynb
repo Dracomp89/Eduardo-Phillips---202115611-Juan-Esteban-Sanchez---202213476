{
  "nbformat": 4,
  "nbformat_minor": 0,
  "metadata": {
    "colab": {
      "provenance": [],
      "include_colab_link": true
    },
    "kernelspec": {
      "name": "python3",
      "display_name": "Python 3"
    },
    "language_info": {
      "name": "python"
    }
  },
  "cells": [
    {
      "cell_type": "markdown",
      "metadata": {
        "id": "view-in-github",
        "colab_type": "text"
      },
      "source": [
        "<a href=\"https://colab.research.google.com/github/Dracomp89/Eduardo-Phillips---202115611-Juan-Esteban-Sanchez---202213476/blob/main/Parcial_2/Parcial_2_F.ipynb\" target=\"_parent\"><img src=\"https://colab.research.google.com/assets/colab-badge.svg\" alt=\"Open In Colab\"/></a>"
      ]
    },
    {
      "cell_type": "markdown",
      "source": [
        "# Eduardo-Phillips---202115611-Juan-Esteban-Sanchez---202213476"
      ],
      "metadata": {
        "id": "-tNn3geQJXug"
      }
    },
    {
      "cell_type": "code",
      "source": [
        "import numpy as np\n",
        "import matplotlib.pyplot as plt\n"
      ],
      "metadata": {
        "id": "x83DdkuOjUiR"
      },
      "execution_count": null,
      "outputs": []
    },
    {
      "cell_type": "markdown",
      "source": [
        "# 24. Un modelo Geocientıfico de moda es la tierra plana.\n",
        "\n",
        "Supongamos por un momento que la tierra es un disco de densidad superficial uniforme\n",
        "σM y de radio R = 1 en ciertas unidades. Usando la ley de gravitacion de Newton, el\n",
        "campo gravitacional en direccion k queda determinado por la siguiente integral elıptica:\n",
        "$g_k(x, y, z) = −k∫_{0}^{R}∫_{0}^{2π}​ \\frac{zrdϕdr}{(x^2+y^2+z^2−2rxcosϕ−2rysinϕ)^{3/2}}​\n",
        "$\n",
        "donde k = 1.9429303960 es una constante que se ajusta para que la gravedad sea g =−9.813646 en la posicion (0., 0., 0.2), es decir en el polo norte."
      ],
      "metadata": {
        "id": "BFA5UovOMOAu"
      }
    },
    {
      "cell_type": "markdown",
      "source": [
        "(a) Cargue N = 50 puntos y pesos de Gauss para calcular el campo gravitacional sobre\n",
        "el disco.\n"
      ],
      "metadata": {
        "id": "Q2_MYEs2MPyp"
      }
    },
    {
      "cell_type": "code",
      "source": [
        "\n",
        "R=1\n",
        "a=0\n",
        "b=2*np.pi\n",
        "c=0\n",
        "d=R\n",
        "k = 1.9429303960\n",
        "N = 50\n",
        "x,y,z=(0., 0., 0.2)\n",
        "roots, weights = np.polynomial.legendre.leggauss(N)\n"
      ],
      "metadata": {
        "id": "FiWvAN7AMRw5"
      },
      "execution_count": null,
      "outputs": []
    },
    {
      "cell_type": "markdown",
      "source": [
        "(b) Defina la funcion de la Ecuacion\n",
        "\n",
        "la ecuacion CORRECTA es $ −k∫_{0}^{R}∫_{0}^{2π}​ \\frac{zrdϕdr}{(x^2+y^2+z^2+r^2−2rxcosϕ−2rysinϕ)^{3/2}}​\n",
        "$"
      ],
      "metadata": {
        "id": "sIlrZXWYMX5e"
      }
    },
    {
      "cell_type": "code",
      "source": [
        "def f(phi,r):\n",
        "    d = (x**2 + y**2 + z**2 + r**2 - 2 * r * x * np.cos(phi) - 2 * r * y * np.sin(phi))**(3/2)\n",
        "    return (r*z)/d\n",
        "\n"
      ],
      "metadata": {
        "id": "CUTxMBQyMYzj"
      },
      "execution_count": 1,
      "outputs": []
    },
    {
      "cell_type": "markdown",
      "source": [
        "(c) Defina una funcion para calcular la integral usando la forma de doble cuadratura\n",
        "(Ecuacion (4.170))."
      ],
      "metadata": {
        "id": "_n0VerHltQZO"
      }
    },
    {
      "cell_type": "code",
      "source": [
        "t_phi = 0.5*( (b-a)*roots + b + a )\n",
        "w_phi = 0.5*( (b-a)*weights )\n",
        "t_r = 0.5*( (d-c)*roots + d + c )\n",
        "w_r = 0.5*( (d-c)*weights )\n",
        "\n",
        "def g_k():\n",
        "  lm=0\n",
        "  for i in range(N):\n",
        "    lm+=w_phi[i]*np.dot(w_r, [f(t_phi[i], p) for p in t_r])\n",
        "  return -k*lm"
      ],
      "metadata": {
        "id": "BMn_6jpcg-Ay"
      },
      "execution_count": null,
      "outputs": []
    },
    {
      "cell_type": "markdown",
      "source": [
        "(d) Verifique que el campo gravitacion en el punto (0., 0., 0.2) es efectivamente g = −9.813646 m/s2\n",
        ". (No avance si no obtiene el resultado correcto)."
      ],
      "metadata": {
        "id": "2_5aXDXNLIgl"
      }
    },
    {
      "cell_type": "code",
      "source": [
        "x,y,z=(0., 0., 0.2)\n",
        "g_k()"
      ],
      "metadata": {
        "colab": {
          "base_uri": "https://localhost:8080/"
        },
        "id": "quiHJZ5YLIOR",
        "outputId": "544c6ece-a9fd-46cf-f8d2-298831032471"
      },
      "execution_count": null,
      "outputs": [
        {
          "output_type": "execute_result",
          "data": {
            "text/plain": [
              "-9.813646786905922"
            ]
          },
          "metadata": {},
          "execution_count": 81
        }
      ]
    },
    {
      "cell_type": "markdown",
      "source": [
        "(e) Usando coordenadas polares:\n",
        "\n",
        "x = rcosθ\n",
        "y = rsinθ, (4.209)\n",
        "estudie el comportamiento azimutal del campo $g_k(x, y, 0.2)$, es decir, fije un valor\n",
        "del radio en R = [0, 0.125, 0.25, 0.38, 0.5] y calcule el campo para diez valores de $ϕ$;\n",
        "phi = np.linspace(0,2*np.pi,10)."
      ],
      "metadata": {
        "id": "8zQemVzDLeTA"
      }
    },
    {
      "cell_type": "code",
      "source": [
        "R = [0, 0.125, 0.25, 0.38, 0.5]\n",
        "phi = np.linspace(0, 2 * np.pi, 10)\n",
        "\n",
        "for r in R:\n",
        "    x = r * np.cos(phi)\n",
        "    y = r * np.sin(phi)\n",
        "    z = 0.2\n",
        "    plt.plot(phi,g_k(), linestyle='--',label=f'R = {r}')\n",
        "\n",
        "plt.xlabel('ϕ [Rad]')\n",
        "plt.ylabel('g[m/s^2]')\n",
        "plt.legend()\n",
        "plt.show()"
      ],
      "metadata": {
        "colab": {
          "base_uri": "https://localhost:8080/",
          "height": 449
        },
        "id": "dA7ORzYJIkj4",
        "outputId": "29bd337e-635e-4eb9-f133-f5f262efd60f"
      },
      "execution_count": null,
      "outputs": [
        {
          "output_type": "display_data",
          "data": {
            "text/plain": [
              "<Figure size 640x480 with 1 Axes>"
            ],
            "image/png": "[encoded data removed]"
          },
          "metadata": {}
        }
      ]
    },
    {
      "cell_type": "markdown",
      "source": [
        "(f) ¿Como interpreta que la gravedad no depende del angulo sobre la tierra?\n",
        "\n",
        "En una esfera como lo es la tierra, la distancia al centro de masa siempre sera la misma en la superficie de esta, por lo que la magnitud de la gravedad no cambia\n"
      ],
      "metadata": {
        "id": "3LukfOx6MNWr"
      }
    },
    {
      "cell_type": "markdown",
      "source": [
        "(g) ¿Que valores tiene la gravedad en el ecuador R = 0.5 y en el borde R = 1?"
      ],
      "metadata": {
        "id": "enIerJAdN3sa"
      }
    },
    {
      "cell_type": "code",
      "source": [
        "x=0.5*np.cos(phi[0])\n",
        "y=0.5*np.sin(phi[0])\n",
        "z=0.2\n",
        "g_05=g_k()\n",
        "\n",
        "x=1*np.cos(phi[0])\n",
        "y=1*np.sin(phi[0])\n",
        "z=0.2\n",
        "g_1=g_k()\n",
        "\n",
        "print(\"La gravedad en el ecuador es: \", g_05)\n",
        "print(\"La gravedad en el borde es: \", g_1)"
      ],
      "metadata": {
        "colab": {
          "base_uri": "https://localhost:8080/"
        },
        "id": "6WfE0_jYN6qf",
        "outputId": "ce1bb9d5-aaaa-4bd4-aebf-7fb106ae7aed"
      },
      "execution_count": null,
      "outputs": [
        {
          "output_type": "stream",
          "name": "stdout",
          "text": [
            "La gravedad en el ecuador es:  -9.2926203916655\n",
            "La gravedad en el borde es:  -4.673047117443013\n"
          ]
        }
      ]
    },
    {
      "cell_type": "markdown",
      "source": [
        "(h) ¿Que podrıa decirle a un amigo terraplanista con base a sus resultados teoricos?\n",
        "\n",
        "Que no tiene sentido que la tierra sea un disco plano pues la gravedad en el \"polo sur\" seria la mitad de lo que lo es en el polo norte"
      ],
      "metadata": {
        "id": "4D7vtFRHOsqX"
      }
    },
    {
      "cell_type": "markdown",
      "source": [
        "#26. Considera la funcion $f(x) = x^3$ en el intervalo [0, 2]. Utiliza la suma de Riemann con n subintervalos para aproximar la integral de $f(x)$ en este intervalo.\n",
        "\n",
        "$\\int_0^{2} x^3 dx$"
      ],
      "metadata": {
        "id": "rTewi5MAHCzg"
      }
    },
    {
      "cell_type": "markdown",
      "source": [
        "(e) (computacional) Escriba un codigo para encontrar la aproximacion de la integral\n",
        "para n = 30."
      ],
      "metadata": {
        "id": "ojb1LhFDHXmo"
      }
    },
    {
      "cell_type": "code",
      "source": [
        "def f(x):\n",
        "    return x**3\n",
        "\n",
        "a = 0\n",
        "b = 2\n",
        "n = 30\n",
        "\n",
        "dx = (b - a) / n\n",
        "\n",
        "x_i = np.linspace(a, b, n+1)\n",
        "\n",
        "f_x_i = f(x_i)\n",
        "\n",
        "suma_riemann = np.sum(f_x_i[:-1]) * dx\n",
        "\n",
        "\n",
        "print(f\"Valor aproximado de la integral utilizando suma de Riemann: {suma_riemann}\")\n",
        "4*(1-(2/n)+(1/n**2))"
      ],
      "metadata": {
        "colab": {
          "base_uri": "https://localhost:8080/"
        },
        "id": "NnDJ_RAsHmpN",
        "outputId": "23fc47ea-82c4-4ce5-e4e6-75da84ae7c80"
      },
      "execution_count": null,
      "outputs": [
        {
          "output_type": "stream",
          "name": "stdout",
          "text": [
            "Valor aproximado de la integral utilizando suma de Riemann: 3.7377777777777776\n"
          ]
        },
        {
          "output_type": "execute_result",
          "data": {
            "text/plain": [
              "3.7377777777777776"
            ]
          },
          "metadata": {},
          "execution_count": 107
        }
      ]
    },
    {
      "cell_type": "markdown",
      "source": [
        "(f) Dibuje el error de la estimacion $ϵ = |I_{exacta} − I_{estimada}|$ como una funcion de n. Use\n",
        "un array np.linspace(30,400,100, endpoint = False)."
      ],
      "metadata": {
        "id": "YRqmeozwH-m9"
      }
    },
    {
      "cell_type": "code",
      "source": [
        "\n",
        "I_exacta = 4\n",
        "\n",
        "n_values = np.linspace(30, 400, 100, endpoint=False)\n",
        "\n",
        "\n",
        "def E(n):\n",
        "  errors = []\n",
        "  for n in n_values:\n",
        "      n = int(n)\n",
        "      dx = 2 / n\n",
        "      x_i = np.linspace(0, 2, n, endpoint=False)\n",
        "      f_x_i = f(x_i)\n",
        "      I_estimada = np.sum(f_x_i) * dx\n",
        "      error = np.abs(I_exacta - I_estimada)\n",
        "      errors.append(error)\n",
        "  return errors\n",
        "\n",
        "\n",
        "plt.plot(n_values, E(n_values), label='Error $\\\\epsilon$', color='blue')\n",
        "plt.xlabel('n (número de subintervalos)')\n",
        "plt.ylabel('Error $\\\\epsilon$')\n",
        "plt.title('Error de la estimación con suma de Riemann')\n",
        "plt.grid(True)\n",
        "plt.legend()\n",
        "plt.show()\n",
        "\n"
      ],
      "metadata": {
        "colab": {
          "base_uri": "https://localhost:8080/",
          "height": 472
        },
        "id": "Jy4T8AjnH-4h",
        "outputId": "5539945c-9e18-46c2-ac82-b9e41bf2c4ba"
      },
      "execution_count": null,
      "outputs": [
        {
          "output_type": "display_data",
          "data": {
            "text/plain": [
              "<Figure size 640x480 with 1 Axes>"
            ],
            "image/png": "[encoded data removed]"
          },
          "metadata": {}
        }
      ]
    },
    {
      "cell_type": "markdown",
      "source": [
        "# 27. En este problema, va a encontrar la regla de cuadratura de 4 puntos usando la definicion formal y la base polinomial canonica: $x_0, x_1, ..., x_n$."
      ],
      "metadata": {
        "id": "NmxeTxC8PCI2"
      }
    },
    {
      "cell_type": "markdown",
      "source": [
        "(a) La definicion de regla de cuadratura de Gauss esta dada por:\n",
        "\n",
        "$∫_{−1}^{1}x^kdx=∑_{i=0}^{3} w_i(x_i)^k , k=0,1,…,N$\n",
        "\n",
        "Para la regla de 4 puntos, necesitamos N = 8 ecuaciones no-lineales para encontrar\n",
        "\n",
        "las 8 constantes:\n",
        "\n",
        "$\\int_{-1}^{1} x^0 \\, dx = w_0 + w_1 + w_2 + w_3$\n",
        "\n",
        "$\\int_{-1}^{1} x^1 \\, dx = w_0 x_0 + w_1 x_1 + w_2 x_2 + w_3 x_3$\n",
        "\n",
        "Escriba las ocho ecuaciones e implemente usando la tupla usada en clase:"
      ],
      "metadata": {
        "id": "8QS_ZjP-j1g2"
      }
    },
    {
      "cell_type": "markdown",
      "source": [
        "\n",
        "el sistema de ecuaciones es:\n",
        "\n",
        "$\\int_{-1}^{1} x^0 \\, dx = w_0 + w_1 + w_2 + w_3$\n",
        "\n",
        "$\\int_{-1}^{1} x^1 \\, dx = w_0 x_0 + w_1 x_1 + w_2 x_2 + w_3 x_3$\n",
        "\n",
        "$\\int_{-1}^{1} x^2 \\, dx = w_0 x_0^2 + w_1 x_1^2 + w_2 x_2^2 + w_3 x_3^2$\n",
        "\n",
        "$\\int_{-1}^{1} x^3 \\, dx = w_0 x_0^3 + w_1 x_1^3 + w_2 x_2^3 + w_3 x_3^3$\n",
        "\n",
        "$\\int_{-1}^{1} x^4 \\, dx = w_0 x_0^4 + w_1 x_1^4 + w_2 x_2^4 + w_3 x_3^4$\n",
        "\n",
        "$\\int_{-1}^{1} x^5 \\, dx = w_0 x_0^5 + w_1 x_1^5 + w_2 x_2^5 + w_3 x_3^5$\n",
        "\n",
        "$\\int_{-1}^{1} x^6 \\, dx = w_0 x_0^6 + w_1 x_1^6 + w_2 x_2^6 + w_3 x_3^6$\n",
        "\n",
        "$\\int_{-1}^{1} x^7 \\, dx = w_0 x_0^7 + w_1 x_1^7 + w_2 x_2^7 + w_3 x_3^7$\n",
        "\n",
        "que se convierten en:\n",
        "\n",
        "$2 = w_0 + w_1 + w_2 + w_3$\n",
        "\n",
        "$0 = w_0 x_0 + w_1 x_1 + w_2 x_2 + w_3 x_3$\n",
        "\n",
        "$\\frac{2}{3} = w_0 x_0^2 + w_1 x_1^2 + w_2 x_2^2 + w_3 x_3^2$\n",
        "\n",
        "$0 = w_0 x_0^3 + w_1 x_1^3 + w_2 x_2^3 + w_3 x_3^3$\n",
        "\n",
        "$\\frac{2}{5} = w_0 x_0^4 + w_1 x_1^4 + w_2 x_2^4 + w_3 x_3^4$\n",
        "\n",
        "$0 = w_0 x_0^5 + w_1 x_1^5 + w_2 x_2^5 + w_3 x_3^5$\n",
        "\n",
        "$\\frac{2}{7} = w_0 x_0^6 + w_1 x_1^6 + w_2 x_2^6 + w_3 x_3^6$\n",
        "\n",
        "$0 = w_0 x_0^7 + w_1 x_1^7 + w_2 x_2^7 + w_3 x_3^7$\n"
      ],
      "metadata": {
        "id": "-rRb3Qo5QmFS"
      }
    },
    {
      "cell_type": "code",
      "source": [
        "def G(r):\n",
        "    xi = r[:4]\n",
        "    w = r[4:]\n",
        "\n",
        "    return [\n",
        "        np.sum(w)-2,\n",
        "        np.dot(xi,w) - 0,\n",
        "        np.sum(w * xi**2)-(2/3),\n",
        "        np.sum(w * xi**3) - 0,\n",
        "        np.sum(w * xi**4)-(2/5),\n",
        "        np.sum(w * xi**5) - 0,\n",
        "        np.sum(w * xi**6)-(2/7),\n",
        "        np.sum(w * xi**7) - 0]"
      ],
      "metadata": {
        "id": "Y4osgvHnlCFD"
      },
      "execution_count": null,
      "outputs": []
    },
    {
      "cell_type": "markdown",
      "source": [
        "(b) Modifique el codigo para que la funcion vectorial $F(x)$ reciba las ocho variables."
      ],
      "metadata": {
        "id": "P0fT0yUilBlX"
      }
    },
    {
      "cell_type": "code",
      "source": [
        "def GetF(G, r):\n",
        "    n = len(r)\n",
        "    v = np.zeros(n)\n",
        "    G_values = G(r)\n",
        "    for i in range(n):\n",
        "        v[i] = G_values[i]\n",
        "    return v"
      ],
      "metadata": {
        "id": "XQTWDx3glT6e"
      },
      "execution_count": null,
      "outputs": []
    },
    {
      "cell_type": "markdown",
      "source": [
        "(c) Modifique el codigo para calcular las 64 componentes que definen el Jacobiano."
      ],
      "metadata": {
        "id": "ZFafEXcYlSGs"
      }
    },
    {
      "cell_type": "code",
      "source": [
        "def GetJacobian(G, r, h=1e-5):\n",
        "    n = len(r)\n",
        "    J = np.zeros((n, n))\n",
        "    for i in range(n):\n",
        "        for j in range(n):\n",
        "            rf = r.copy()\n",
        "            rb = r.copy()\n",
        "            rf[j] += h\n",
        "            rb[j] -= h\n",
        "            J[i, j] = (G(rf)[i] - G(rb)[i]) / (2 * h)\n",
        "    return J"
      ],
      "metadata": {
        "id": "gmTXHxsLls73"
      },
      "execution_count": null,
      "outputs": []
    },
    {
      "cell_type": "markdown",
      "source": [
        "(d) Use el metodo del descenso del gradiente para estimar los 4 pesos $(w_i)$ y los 4 puntos de Gauss $(x_i)$. Tenga en cuenta que la semilla debe ser un vector aleatorio en el intervalo [-1,1], i.e, r0 = np.random.uniform( -1.,1.,size=8).\n"
      ],
      "metadata": {
        "id": "JukGoYR8m0v3"
      }
    },
    {
      "cell_type": "code",
      "source": [
        "def Metric(G, r):\n",
        "    return 0.5 * np.linalg.norm(GetF(G, r))**2\n",
        "x0 = np.random.uniform(-1, 1, 8)\n",
        "Metric(G, x0)"
      ],
      "metadata": {
        "colab": {
          "base_uri": "https://localhost:8080/"
        },
        "id": "Pt9M5wHamGwJ",
        "outputId": "bc97d274-87f9-43c7-e63a-6bfdd0ace497"
      },
      "execution_count": null,
      "outputs": [
        {
          "output_type": "execute_result",
          "data": {
            "text/plain": [
              "11.099215206873462"
            ]
          },
          "metadata": {},
          "execution_count": 87
        }
      ]
    },
    {
      "cell_type": "code",
      "source": [
        "def Minimizer(G, r, lr=1e-3, epochs=4000, error=1e-6):\n",
        "    metric = 1\n",
        "    it = 0\n",
        "    while metric > error and it < epochs:\n",
        "        J = GetJacobian(G, r).T\n",
        "        Vector = GetF(G, r)\n",
        "        r = r - lr * np.dot(J, Vector)\n",
        "        metric = Metric(G, r)\n",
        "        it += 1\n",
        "    return r, it\n",
        "xsol, it = Minimizer(G, x0)\n",
        "print(\"Puntos calculados (x_i):\", xsol[:4])\n",
        "print(\"Pesos calculados (w_i):\", xsol[4:])\n",
        "print(\"Iteraciones:\", it)"
      ],
      "metadata": {
        "colab": {
          "base_uri": "https://localhost:8080/"
        },
        "id": "IVstfKIt4H6o",
        "outputId": "48fc8885-169d-4339-c0b5-ab1ddfe2eca8"
      },
      "execution_count": null,
      "outputs": [
        {
          "output_type": "stream",
          "name": "stdout",
          "text": [
            "Puntos calculados (x_i): [ 0.67244155 -0.26640144 -0.77770212  0.65464027]\n",
            "Pesos calculados (w_i): [ 1.16652645  0.60144672  0.52102785 -0.31114133]\n",
            "Iteraciones: 4000\n"
          ]
        }
      ]
    },
    {
      "cell_type": "markdown",
      "source": [
        "(e) La tasa de aprendizaje puede ser γ = 0.01. Cuando la m´etrica sea menor a 0.005\n",
        "ajuste la tasa a γ = 0.001 para tener una soluci´on m´as precisa. No se preocupe si\n",
        "cada vez que corre el algoritmo llega a una soluci´on distinta. Parece que en R\n",
        "8\n",
        ", este\n",
        "problema tiene un conjunto grande de m´ınimos locales."
      ],
      "metadata": {
        "id": "wIa1z8-89QD5"
      }
    },
    {
      "cell_type": "code",
      "source": [
        "def Minimizer2(G, r, lr=1e-2, epochs=4000, error=1e-6):\n",
        "    metric = 1\n",
        "    it = 0\n",
        "    while metric > error and it < epochs:\n",
        "        if metric < 0.005:\n",
        "            lr = 1e-3\n",
        "\n",
        "        J = GetJacobian(G, r).T\n",
        "        Vector = GetF(G, r)\n",
        "        r = r - lr * np.dot(J, Vector)\n",
        "        metric = Metric(G, r)\n",
        "        it += 1\n",
        "\n",
        "    return r, it\n",
        "\n",
        "\n",
        "xsol, it = Minimizer2(G, x0)"
      ],
      "metadata": {
        "id": "lpK9uQ9b9Qqa"
      },
      "execution_count": null,
      "outputs": []
    },
    {
      "cell_type": "markdown",
      "source": [
        "(f) Utilice la regla encontrada para estimar la integral:\n",
        "\n",
        "$\\int_{-1}^{1} \\cos(x) \\, dx = \\sum w_i f(x_i) \\approx 1.68294168,$\n",
        "\n",
        "su regla debe estimar la integral al menos con dos cifras de precisión: $ I\n",
        "\\approx 1.6 .$"
      ],
      "metadata": {
        "id": "btBL8L2s-1tE"
      }
    },
    {
      "cell_type": "code",
      "source": [
        "wi=xsol[4:]\n",
        "xi=xsol[:4]\n",
        "I=np.sum(wi*np.cos(xi))\n",
        "I"
      ],
      "metadata": {
        "colab": {
          "base_uri": "https://localhost:8080/"
        },
        "id": "VerywgC5RKsB",
        "outputId": "04ab6937-eece-4c5c-9033-afb36bbd0adb"
      },
      "execution_count": null,
      "outputs": [
        {
          "output_type": "execute_result",
          "data": {
            "text/plain": [
              "1.6434003309394316"
            ]
          },
          "metadata": {},
          "execution_count": 90
        }
      ]
    },
    {
      "cell_type": "markdown",
      "source": [
        "(g) ¿Cual es la razon de que esta estimacion sea tan poco precisa?"
      ],
      "metadata": {
        "id": "99lJAIU1-2kb"
      }
    },
    {
      "cell_type": "markdown",
      "source": [
        "esto se puede deber a los multiples minimos locales de R8 lo que hace que el minimizador converga a valores distintos a los deseados, ya que aunque se aumente el numero de iteraciones, el valor no parece converger de manera que metric sea menor al error deseado"
      ],
      "metadata": {
        "id": "j7QR5lLX_WLr"
      }
    },
    {
      "cell_type": "markdown",
      "source": [
        "# 24. Estrategıa de la mejor inversion: el problema de la inversion se basa en la incertidumbre respecto a los eventos futuros que afectan el comportamiento de algun mercado. Vamos a suponer que se pueden dar 8 eventos en un mercado, y se dispone de un capital de $Ca = 1, 000, 000$. La cuota que paga el mercado por la inversion en el evento i-esimo esta dada por: $C = [8.51, 10.68, 12.24, 13.66, 15.37, 17.15, 19.66, 24.69]$. (5.103)  \n",
        "\n",
        "Donde los valores representan, indirectamente, la probabilidad de que ocurra cada evento.\n",
        "Por ejemplo, la probabilidad del primer evento es: $P(0) =\\frac {1}{8.51}$ . Se desea distribuir el\n",
        "capital entre las 8 opciones de forma tal que se maximice el retorno de dinero sin importar\n",
        "que opcion se realice.\n",
        "\n",
        "Para maximizar el retorno de la inversion, se implementara una rutina genetica que sigue\n",
        "los siguientes pasos:\n"
      ],
      "metadata": {
        "id": "FTAOaWwvBH3x"
      }
    },
    {
      "cell_type": "markdown",
      "source": [
        "(a) Definir el vector de cuotas $C$ ."
      ],
      "metadata": {
        "id": "lHY5COyWB79n"
      }
    },
    {
      "cell_type": "code",
      "source": [
        "Ca=1000000\n",
        "C=np.array([8.51, 10.68, 12.24, 13.66, 15.37, 17.15, 19.66, 24.69])\n"
      ],
      "metadata": {
        "id": "rKUZDRhtD1q6"
      },
      "execution_count": null,
      "outputs": []
    },
    {
      "cell_type": "markdown",
      "source": [
        "(b) Implementar la funci´on de retorno:\n",
        "$R(w) = min_rCa (w ⊙ C − 1)$\n",
        "donde ⊙ es el operador de producto elemento por elemento. Esta funci´on depende\n",
        "de los pesos w que distribuyen la inversi´on en cada caso.\n",
        "Por ejemplo, si el dinero se reparte equitativamente entre dos opciones, el vector de\n",
        "pesos es w = [0.5, 0.5], con C = [8.51, 10.68]. En este caso, la funci´on de retorno se\n",
        "calcula como:\n",
        "\n",
        "$R(w) = min_r Ca (w ⊙ C − 1)$\n",
        "\n",
        "$= min_r1, 000, 000 ([0.5, 0.5] ⊙ [8.51, 10.68] − 1)$\n",
        "\n",
        "$= min_r1, 000, 000 ([4.255, 5.34] − 1)$\n",
        "\n",
        "$= min_r1, 000, 000 ([3.255, 4.34])$\n",
        "\n",
        "$= min_r[3, 255, 000, 4, 340, 000]$\n",
        "\n",
        "$= 3, 255, 000.$\n",
        "\n",
        "Ası, la eleccion correcta del vector de pesos w puede maximizar esta funcion de\n",
        "retorno.\n"
      ],
      "metadata": {
        "id": "12ZJOH20EJ5e"
      }
    },
    {
      "cell_type": "code",
      "source": [
        "def R(w,C,Ca):\n",
        "  C_copy=C.copy()\n",
        "  C2=C_copy[:len(w)]\n",
        "  return np.min(Ca *( (w * C2) - 1))\n"
      ],
      "metadata": {
        "id": "p-PkjNXsEDe2"
      },
      "execution_count": null,
      "outputs": []
    },
    {
      "cell_type": "markdown",
      "source": [
        "(c) Modificar la clase Robot para que reciba la funcion de retorno y el vector de cuotas.\n"
      ],
      "metadata": {
        "id": "qhUYIpPGqUMv"
      }
    },
    {
      "cell_type": "code",
      "source": [
        "class Robot:\n",
        "    def __init__(self, C, f):\n",
        "        self.C = C\n",
        "        self.Ca = Ca\n",
        "        self.f = f\n",
        "\n",
        "roboute_guilliman=Robot(C, R)"
      ],
      "metadata": {
        "id": "z5UcH7PgqT_r"
      },
      "execution_count": null,
      "outputs": []
    },
    {
      "cell_type": "markdown",
      "source": [
        "(d) Asegurarse de que el vector de cuotas est´e normalizado, ya que es una ponderaci´on\n",
        "del capital completo. Esto implica que, en el constructor de la clase, se debe dividir\n",
        "entre la norma del vector de pesos:\n",
        "\n",
        "self.r = np.random.uniform(0.,1., size=self.cuotas.shape[0])\n",
        "\n",
        "self.r = self.r / np.sum(self.r) # Normalizaci´on inicial\n"
      ],
      "metadata": {
        "id": "sMYizIsws2If"
      }
    },
    {
      "cell_type": "code",
      "source": [
        "class Robot:\n",
        "    def __init__(self, C, Ca, f, rate):\n",
        "        self.C = C\n",
        "        self.Ca = Ca\n",
        "        self.r = np.random.uniform(0.,1., size=self.C.shape[0])\n",
        "        self.r = self.r / np.sum(self.r)\n",
        "        self.f = f(self.r,self.C,self.Ca)\n"
      ],
      "metadata": {
        "id": "liTBSghAs2ar"
      },
      "execution_count": null,
      "outputs": []
    },
    {
      "cell_type": "markdown",
      "source": [
        "(e) Las mutaciones tambien deben estar normalizadas para evitar que haya inversiones negativas:\n",
        "\n",
        "self.r += np.random.normal(loc=0., scale=self.rate, size=self.cuotas.shape[0])\n",
        "\n",
        "self.r = np.abs(self.r) # Asegura que no haya valores negativos\n",
        "\n",
        "self.r = self.r / np.sum(self.r) # Normaliza para que la suma sea 1"
      ],
      "metadata": {
        "id": "tYNq5FNz-Zni"
      }
    },
    {
      "cell_type": "code",
      "source": [
        "class Robot:\n",
        "    def __init__(self, C, Ca, f, rate):\n",
        "        self.C = C  # Vector de cuotas\n",
        "        self.Ca = Ca  # Capital disponible\n",
        "        self.rate = rate  # Tasa de mutación\n",
        "        self.r = np.random.uniform(0., 1., size=self.C.shape[0])\n",
        "        self.r = self.r / np.sum(self.r)  # Normalización inicial\n",
        "        self.f = f(self.r, self.C, self.Ca)  # Calcula el retorno usando la función f\n",
        "\n",
        "    def mutar(self, f):\n",
        "        # Realiza una mutación en el vector de pesos\n",
        "        self.r += np.random.normal(loc=0., scale=self.rate, size=self.C.shape[0])\n",
        "        self.r = np.abs(self.r)  # Asegura que no haya valores negativos\n",
        "        self.r = self.r / np.sum(self.r)  # Normalización para que la suma sea 1\n",
        "        # Recalcula el retorno después de la mutación\n",
        "        self.f = f(self.r, self.C, self.Ca)"
      ],
      "metadata": {
        "id": "WYbl09Sbt7Tz"
      },
      "execution_count": null,
      "outputs": []
    },
    {
      "cell_type": "markdown",
      "source": [
        "(f) Ejecutar el algoritmo genetico con N = 500 robots durante 500 epocas para encontrar\n",
        "el vector de pesos w que maximice la funcion de retorno.\n"
      ],
      "metadata": {
        "id": "0XbOFP8p-uj2"
      }
    },
    {
      "cell_type": "code",
      "source": [
        "rate=0.01\n",
        "N=500\n",
        "num_robots = N\n",
        "num_epocas = N\n",
        "\n",
        "robots = [Robot(C, Ca, R, rate) for _ in range(num_robots)]\n",
        "mejores_retornos = []\n",
        "\n",
        "\n",
        "for epoca in range(num_epocas):\n",
        "    retornos = np.array([robot.f for robot in robots])\n",
        "    mejor_retorno = np.max(retornos)\n",
        "    mejores_retornos.append(mejor_retorno)\n",
        "    num_seleccionados = int(num_robots * 0.1)\n",
        "    indices_mejores = retornos.argsort()[-num_seleccionados:]\n",
        "    mejores_robots = [robots[i] for i in indices_mejores]\n",
        "\n",
        "    nueva_poblacion = []\n",
        "    for _ in range(num_robots):\n",
        "        padre, madre = np.random.choice(mejores_robots, 2)\n",
        "        nuevo_robot = Robot(C, Ca, R, rate)\n",
        "        nuevo_robot.r = (padre.r + madre.r) / 2\n",
        "        nuevo_robot.mutar(R)\n",
        "        nueva_poblacion.append(nuevo_robot)\n",
        "    robots = nueva_poblacion\n",
        "\n",
        "\n",
        "plt.plot(range(num_epocas), mejores_retornos)\n",
        "plt.xlabel(\"Época\")\n",
        "plt.ylabel(\"Retorno de Inversión\")\n",
        "plt.title(\"Curva de Aprendizaje - Algoritmo Genético\")\n",
        "plt.show()\n",
        "\n",
        "mejor_robot = max(robots, key=lambda robot: robot.f)\n",
        "mejor_pesos = mejor_robot.r\n",
        "\n",
        "mejor_retorno_final = max(mejores_retornos)\n",
        "print(mejor_retorno_final)\n",
        "print(\"vector de ponderacion:\" , mejor_pesos)\n"
      ],
      "metadata": {
        "colab": {
          "base_uri": "https://localhost:8080/",
          "height": 526
        },
        "id": "5mAGcs4V-uOa",
        "outputId": "778fbf16-6f28-4474-bf0b-1301703004d7"
      },
      "execution_count": null,
      "outputs": [
        {
          "output_type": "display_data",
          "data": {
            "text/plain": [
              "<Figure size 640x480 with 1 Axes>"
            ],
            "image/png": "[encoded data removed]"
          },
          "metadata": {}
        },
        {
          "output_type": "stream",
          "name": "stdout",
          "text": [
            "702662.9726956208\n",
            "vector de ponderacion: [0.19601197 0.15607518 0.1395496  0.12296028 0.11486181 0.0973423\n",
            " 0.09551015 0.07768871]\n"
          ]
        }
      ]
    },
    {
      "cell_type": "code",
      "source": [
        "inversion_por_opcion = mejor_pesos * Ca\n",
        "retornos = Ca * (mejor_pesos * C - 1)\n",
        "retorno_minimo = np.min(retornos)\n",
        "retorno_maximo = np.max(retornos)\n",
        "\n",
        "\n",
        "print(\"la inversion por opcion es:\",inversion_por_opcion)\n",
        "print(\"el retorno minimo es:\", retorno_minimo)\n",
        "print(\"el retorno maximo es:\", retorno_maximo)"
      ],
      "metadata": {
        "colab": {
          "base_uri": "https://localhost:8080/"
        },
        "id": "yqEHI-uXDQ7O",
        "outputId": "8ba2643b-cc99-449f-b9ec-79eca5a961fa"
      },
      "execution_count": null,
      "outputs": [
        {
          "output_type": "stream",
          "name": "stdout",
          "text": [
            "la inversion por opcion es: [196011.96574993 156075.1805293  139549.59517225 122960.27837878\n",
            " 114861.8117252   97342.30434304  95510.15328614  77688.71081536]\n",
            "el retorno minimo es: 666882.9280529144\n",
            "el retorno maximo es: 918134.2700313322\n"
          ]
        }
      ]
    },
    {
      "cell_type": "markdown",
      "source": [
        "Se genera dinero."
      ],
      "metadata": {
        "id": "SdRY_eQoFP-d"
      }
    }
  ]
}